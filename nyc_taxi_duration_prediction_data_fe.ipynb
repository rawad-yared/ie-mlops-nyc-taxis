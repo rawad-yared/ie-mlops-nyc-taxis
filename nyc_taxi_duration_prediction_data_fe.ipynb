{
 "cells": [
  {
   "cell_type": "markdown",
   "id": "62a55ac5",
   "metadata": {},
   "source": [
    "# NYC Taxi Duration Prediction  \n",
    "## 02. Data Sampling + Feature Engineering (One‑Hot Encoding)\n",
    "\n",
    "This notebook mirrors **Notebook 1** and adds two light extensions:\n",
    "1) **Deterministic sampling (10%)** of train/validation to speed up iteration.  \n",
    "2) A quick **one‑hot encoding (OHE) deep dive** using the same `DictVectorizer` as in Notebook 1.\n"
   ]
  },
  {
   "cell_type": "markdown",
   "id": "95647361",
   "metadata": {},
   "source": [
    "## Imports\n",
    "- **pandas / numpy** for data wrangling  \n",
    "- **scikit‑learn** `DictVectorizer`, `LinearRegression`, `RMSE`  \n",
    "- **seaborn / matplotlib** for the same plots as Notebook 1\n"
   ]
  },
  {
   "cell_type": "code",
   "execution_count": 1,
   "id": "5cf58168",
   "metadata": {},
   "outputs": [],
   "source": [
    "import warnings\n",
    "import time\n",
    "\n",
    "# Data manipulation\n",
    "import numpy as np\n",
    "import pandas as pd\n",
    "\n",
    "# Visualization\n",
    "import seaborn as sns\n",
    "import matplotlib.pyplot as plt\n",
    "\n",
    "# Feature engineering and linear regression\n",
    "from sklearn.feature_extraction import DictVectorizer\n",
    "from sklearn.linear_model import LinearRegression\n",
    "from sklearn.metrics import root_mean_squared_error\n",
    "\n",
    "warnings.filterwarnings('ignore')\n",
    "sns.set_style('whitegrid')"
   ]
  },
  {
   "cell_type": "markdown",
   "id": "00f93a50",
   "metadata": {},
   "source": [
    "## Data Sources (Train/Validation)\n",
    "Training data: **January 2024**. Validation data: **February 2024** from NYC TLC trip records.\n"
   ]
  },
  {
   "cell_type": "code",
   "execution_count": 2,
   "id": "681e6614",
   "metadata": {},
   "outputs": [],
   "source": [
    "TRAIN_URL = 'https://d37ci6vzurychx.cloudfront.net/trip-data/yellow_tripdata_2024-01.parquet' # JAN 2024\n",
    "VAL_URL   = 'https://d37ci6vzurychx.cloudfront.net/trip-data/yellow_tripdata_2024-02.parquet' # FEB 2024"
   ]
  },
  {
   "cell_type": "markdown",
   "id": "b8a5f679",
   "metadata": {},
   "source": [
    "## Define Data Loading Function\n",
    "Same as Notebook 1, with duration filtering and categorical casting for OHE.\n"
   ]
  },
  {
   "cell_type": "code",
   "execution_count": 3,
   "id": "3187cd17",
   "metadata": {},
   "outputs": [],
   "source": [
    "# Pickup and Dropoff locations as Categorical\n",
    "CATEGORICAL = ['PULocationID', 'DOLocationID']\n",
    "\n",
    "def read_data(url: str) -> pd.DataFrame:\n",
    "    # Read parquet file\n",
    "    df = pd.read_parquet(url)\n",
    "    \n",
    "    # Duration in minutes\n",
    "    df['duration'] = (df.tpep_dropoff_datetime - df.tpep_pickup_datetime).dt.total_seconds() / 60\n",
    "    \n",
    "    # Remove outliers, keep only reasonable trips\n",
    "    df = df[(df.duration >= 1) & (df.duration <= 60)].copy()\n",
    "    \n",
    "    # Categorical as strings for one-hot encoding\n",
    "    df[CATEGORICAL] = df[CATEGORICAL].astype(str)\n",
    "    return df"
   ]
  },
  {
   "cell_type": "code",
   "execution_count": 4,
   "id": "b562b469",
   "metadata": {},
   "outputs": [
    {
     "name": "stdout",
     "output_type": "stream",
     "text": [
      "Train rows: 2,898,906;  Val rows: 2,938,060\n"
     ]
    },
    {
     "data": {
      "text/html": [
       "<div>\n",
       "<style scoped>\n",
       "    .dataframe tbody tr th:only-of-type {\n",
       "        vertical-align: middle;\n",
       "    }\n",
       "\n",
       "    .dataframe tbody tr th {\n",
       "        vertical-align: top;\n",
       "    }\n",
       "\n",
       "    .dataframe thead th {\n",
       "        text-align: right;\n",
       "    }\n",
       "</style>\n",
       "<table border=\"1\" class=\"dataframe\">\n",
       "  <thead>\n",
       "    <tr style=\"text-align: right;\">\n",
       "      <th></th>\n",
       "      <th>VendorID</th>\n",
       "      <th>tpep_pickup_datetime</th>\n",
       "      <th>tpep_dropoff_datetime</th>\n",
       "      <th>passenger_count</th>\n",
       "      <th>trip_distance</th>\n",
       "      <th>RatecodeID</th>\n",
       "      <th>store_and_fwd_flag</th>\n",
       "      <th>PULocationID</th>\n",
       "      <th>DOLocationID</th>\n",
       "      <th>payment_type</th>\n",
       "      <th>fare_amount</th>\n",
       "      <th>extra</th>\n",
       "      <th>mta_tax</th>\n",
       "      <th>tip_amount</th>\n",
       "      <th>tolls_amount</th>\n",
       "      <th>improvement_surcharge</th>\n",
       "      <th>total_amount</th>\n",
       "      <th>congestion_surcharge</th>\n",
       "      <th>Airport_fee</th>\n",
       "      <th>duration</th>\n",
       "    </tr>\n",
       "  </thead>\n",
       "  <tbody>\n",
       "    <tr>\n",
       "      <th>0</th>\n",
       "      <td>2</td>\n",
       "      <td>2024-01-01 00:57:55</td>\n",
       "      <td>2024-01-01 01:17:43</td>\n",
       "      <td>1.0</td>\n",
       "      <td>1.72</td>\n",
       "      <td>1.0</td>\n",
       "      <td>N</td>\n",
       "      <td>186</td>\n",
       "      <td>79</td>\n",
       "      <td>2</td>\n",
       "      <td>17.7</td>\n",
       "      <td>1.0</td>\n",
       "      <td>0.5</td>\n",
       "      <td>0.00</td>\n",
       "      <td>0.0</td>\n",
       "      <td>1.0</td>\n",
       "      <td>22.70</td>\n",
       "      <td>2.5</td>\n",
       "      <td>0.0</td>\n",
       "      <td>19.800000</td>\n",
       "    </tr>\n",
       "    <tr>\n",
       "      <th>1</th>\n",
       "      <td>1</td>\n",
       "      <td>2024-01-01 00:03:00</td>\n",
       "      <td>2024-01-01 00:09:36</td>\n",
       "      <td>1.0</td>\n",
       "      <td>1.80</td>\n",
       "      <td>1.0</td>\n",
       "      <td>N</td>\n",
       "      <td>140</td>\n",
       "      <td>236</td>\n",
       "      <td>1</td>\n",
       "      <td>10.0</td>\n",
       "      <td>3.5</td>\n",
       "      <td>0.5</td>\n",
       "      <td>3.75</td>\n",
       "      <td>0.0</td>\n",
       "      <td>1.0</td>\n",
       "      <td>18.75</td>\n",
       "      <td>2.5</td>\n",
       "      <td>0.0</td>\n",
       "      <td>6.600000</td>\n",
       "    </tr>\n",
       "    <tr>\n",
       "      <th>2</th>\n",
       "      <td>1</td>\n",
       "      <td>2024-01-01 00:17:06</td>\n",
       "      <td>2024-01-01 00:35:01</td>\n",
       "      <td>1.0</td>\n",
       "      <td>4.70</td>\n",
       "      <td>1.0</td>\n",
       "      <td>N</td>\n",
       "      <td>236</td>\n",
       "      <td>79</td>\n",
       "      <td>1</td>\n",
       "      <td>23.3</td>\n",
       "      <td>3.5</td>\n",
       "      <td>0.5</td>\n",
       "      <td>3.00</td>\n",
       "      <td>0.0</td>\n",
       "      <td>1.0</td>\n",
       "      <td>31.30</td>\n",
       "      <td>2.5</td>\n",
       "      <td>0.0</td>\n",
       "      <td>17.916667</td>\n",
       "    </tr>\n",
       "  </tbody>\n",
       "</table>\n",
       "</div>"
      ],
      "text/plain": [
       "   VendorID tpep_pickup_datetime tpep_dropoff_datetime  passenger_count  \\\n",
       "0         2  2024-01-01 00:57:55   2024-01-01 01:17:43              1.0   \n",
       "1         1  2024-01-01 00:03:00   2024-01-01 00:09:36              1.0   \n",
       "2         1  2024-01-01 00:17:06   2024-01-01 00:35:01              1.0   \n",
       "\n",
       "   trip_distance  RatecodeID store_and_fwd_flag PULocationID DOLocationID  \\\n",
       "0           1.72         1.0                  N          186           79   \n",
       "1           1.80         1.0                  N          140          236   \n",
       "2           4.70         1.0                  N          236           79   \n",
       "\n",
       "   payment_type  fare_amount  extra  mta_tax  tip_amount  tolls_amount  \\\n",
       "0             2         17.7    1.0      0.5        0.00           0.0   \n",
       "1             1         10.0    3.5      0.5        3.75           0.0   \n",
       "2             1         23.3    3.5      0.5        3.00           0.0   \n",
       "\n",
       "   improvement_surcharge  total_amount  congestion_surcharge  Airport_fee  \\\n",
       "0                    1.0         22.70                   2.5          0.0   \n",
       "1                    1.0         18.75                   2.5          0.0   \n",
       "2                    1.0         31.30                   2.5          0.0   \n",
       "\n",
       "    duration  \n",
       "0  19.800000  \n",
       "1   6.600000  \n",
       "2  17.916667  "
      ]
     },
     "execution_count": 4,
     "metadata": {},
     "output_type": "execute_result"
    }
   ],
   "source": [
    "df_train = read_data(TRAIN_URL)\n",
    "df_val   = read_data(VAL_URL)\n",
    "\n",
    "print(f\"Train rows: {len(df_train):,};  Val rows: {len(df_val):,}\")\n",
    "df_train.head(3)"
   ]
  },
  {
   "cell_type": "markdown",
   "id": "51812faf",
   "metadata": {},
   "source": [
    "## Optional Deterministic Sampling (10%)\n",
    "Keep everything identical, just work on a smaller slice for faster iteration. Set the seed for reproducibility.\n"
   ]
  },
  {
   "cell_type": "code",
   "execution_count": 5,
   "id": "d228c71f",
   "metadata": {},
   "outputs": [
    {
     "name": "stdout",
     "output_type": "stream",
     "text": [
      "Train size: 2,898,906 -> 289,891\n",
      "Val   size: 2,938,060 -> 293,806\n"
     ]
    }
   ],
   "source": [
    "SAMPLE_FRAC = 0.10  # change to 1.0 to disable sampling\n",
    "SEED = 42\n",
    "\n",
    "len_train_before, len_val_before = len(df_train), len(df_val)\n",
    "\n",
    "if SAMPLE_FRAC < 1.0:\n",
    "    df_train = df_train.sample(frac=SAMPLE_FRAC, random_state=SEED)\n",
    "    df_val   = df_val.sample(frac=SAMPLE_FRAC,   random_state=SEED)\n",
    "\n",
    "print(f\"Train size: {len_train_before:,} -> {len(df_train):,}\")\n",
    "print(f\"Val   size: {len_val_before:,} -> {len(df_val):,}\")"
   ]
  },
  {
   "cell_type": "code",
   "execution_count": 6,
   "id": "cfd97dbf",
   "metadata": {},
   "outputs": [
    {
     "data": {
      "text/plain": [
       "np.float64(14.434337791330766)"
      ]
     },
     "execution_count": 6,
     "metadata": {},
     "output_type": "execute_result"
    }
   ],
   "source": [
    "# Quick sanity check similar to Notebook 1\n",
    "df_train.duration.mean()"
   ]
  },
  {
   "cell_type": "markdown",
   "id": "ba17f3cc",
   "metadata": {},
   "source": [
    "## Prepare Features (One‑Hot Encoding)\n",
    "We use **`DictVectorizer`** (same as Notebook 1) to one‑hot encode pickup/dropoff IDs.\n"
   ]
  },
  {
   "cell_type": "code",
   "execution_count": 7,
   "id": "d1ffda9a",
   "metadata": {},
   "outputs": [
    {
     "name": "stdout",
     "output_type": "stream",
     "text": [
      "Feature matrix (train): (289891, 491)\n"
     ]
    }
   ],
   "source": [
    "# Convert categorical columns to a list of dictionaries (one per row)\n",
    "train_dicts = df_train[CATEGORICAL].to_dict(orient='records')\n",
    "\n",
    "# Initialize the DictVectorizer for one-hot encoding\n",
    "dv = DictVectorizer()\n",
    "\n",
    "# Fit the vectorizer and transform the training data into a feature matrix\n",
    "X_train = dv.fit_transform(train_dicts)\n",
    "\n",
    "# Target variable: trip duration\n",
    "y_train = df_train['duration'].values\n",
    "\n",
    "print('Feature matrix (train):', X_train.shape)"
   ]
  },
  {
   "cell_type": "markdown",
   "id": "9d777854",
   "metadata": {},
   "source": [
    "### OHE Quick Peek\n",
    "- **How many features?** (`dv.get_feature_names_out()`)  \n",
    "- **What does a single row look like after OHE?** (non‑zero features)  \n",
    "- **Which categories are most common?** (top 10 bar plot for pickup IDs)\n"
   ]
  },
  {
   "cell_type": "code",
   "execution_count": 8,
   "id": "73fe2ba5",
   "metadata": {},
   "outputs": [
    {
     "name": "stdout",
     "output_type": "stream",
     "text": [
      "Num OHE features: 491\n"
     ]
    },
    {
     "data": {
      "text/html": [
       "<div>\n",
       "<style scoped>\n",
       "    .dataframe tbody tr th:only-of-type {\n",
       "        vertical-align: middle;\n",
       "    }\n",
       "\n",
       "    .dataframe tbody tr th {\n",
       "        vertical-align: top;\n",
       "    }\n",
       "\n",
       "    .dataframe thead th {\n",
       "        text-align: right;\n",
       "    }\n",
       "</style>\n",
       "<table border=\"1\" class=\"dataframe\">\n",
       "  <thead>\n",
       "    <tr style=\"text-align: right;\">\n",
       "      <th></th>\n",
       "      <th>feature</th>\n",
       "      <th>value</th>\n",
       "    </tr>\n",
       "  </thead>\n",
       "  <tbody>\n",
       "    <tr>\n",
       "      <th>0</th>\n",
       "      <td>DOLocationID=261</td>\n",
       "      <td>1.0</td>\n",
       "    </tr>\n",
       "    <tr>\n",
       "      <th>1</th>\n",
       "      <td>PULocationID=163</td>\n",
       "      <td>1.0</td>\n",
       "    </tr>\n",
       "  </tbody>\n",
       "</table>\n",
       "</div>"
      ],
      "text/plain": [
       "            feature  value\n",
       "0  DOLocationID=261    1.0\n",
       "1  PULocationID=163    1.0"
      ]
     },
     "execution_count": 8,
     "metadata": {},
     "output_type": "execute_result"
    }
   ],
   "source": [
    "# Number of OHE features\n",
    "feature_names = dv.get_feature_names_out()\n",
    "print('Num OHE features:', len(feature_names))\n",
    "\n",
    "# Show non-zero features for the first training example\n",
    "row = 0\n",
    "nz_cols = X_train[row].nonzero()[1]\n",
    "decoded = [(feature_names[i], X_train[row, i]) for i in nz_cols]\n",
    "pd.DataFrame(decoded, columns=['feature', 'value'])"
   ]
  },
  {
   "cell_type": "code",
   "execution_count": 9,
   "id": "124f0b96",
   "metadata": {},
   "outputs": [
    {
     "data": {
      "image/png": "[encoded data removed]",
      "text/plain": [
       "<Figure size 700x400 with 1 Axes>"
      ]
     },
     "metadata": {},
     "output_type": "display_data"
    }
   ],
   "source": [
    "# Top-10 most frequent pickup locations (on sampled train)\n",
    "top_pu = (df_train['PULocationID']\n",
    "          .value_counts()\n",
    "          .head(10)\n",
    "          .sort_values(ascending=True))\n",
    "\n",
    "plt.figure(figsize=(7,4))\n",
    "top_pu.plot(kind='barh')\n",
    "plt.xlabel('Count')\n",
    "plt.ylabel('PULocationID')\n",
    "plt.title('Top-10 Pickup Locations (train sample)')\n",
    "plt.tight_layout()"
   ]
  },
  {
   "cell_type": "markdown",
   "id": "d47b0014",
   "metadata": {},
   "source": [
    "## Train Linear Regression\n",
    "Identical to Notebook 1: fit **LinearRegression**, compute train RMSE, and visualize.\n"
   ]
  },
  {
   "cell_type": "code",
   "execution_count": 10,
   "id": "34ada146",
   "metadata": {},
   "outputs": [
    {
     "name": "stdout",
     "output_type": "stream",
     "text": [
      "Train RMSE: 7.924\n",
      "Training time: 3.28 seconds\n",
      "Prediction time: 0.00 seconds\n"
     ]
    }
   ],
   "source": [
    "# Initialize the linear regression model\n",
    "lr = LinearRegression()\n",
    "\n",
    "# Fit the model to the training data (timing)\n",
    "start_train = time.time()\n",
    "lr.fit(X_train, y_train)\n",
    "end_train = time.time()\n",
    "train_duration = end_train - start_train\n",
    "\n",
    "# Predict durations on the training set (timing)\n",
    "start_pred = time.time()\n",
    "y_pred_train = lr.predict(X_train)\n",
    "end_pred = time.time()\n",
    "pred_duration = end_pred - start_pred\n",
    "\n",
    "# Calculate RMSE (Root Mean Squared Error) on the training set\n",
    "rmse_train = root_mean_squared_error(y_train, y_pred_train)\n",
    "\n",
    "# Print the training RMSE and durations\n",
    "print(f\"Train RMSE: {rmse_train:.3f}\")\n",
    "print(f\"Training time: {train_duration:.2f} seconds\")\n",
    "print(f\"Prediction time: {pred_duration:.2f} seconds\")"
   ]
  },
  {
   "cell_type": "markdown",
   "id": "76ddf010",
   "metadata": {},
   "source": [
    "### Quick Visual Check\n",
    "Same histogram overlay for **actual vs predicted** trip durations.\n"
   ]
  },
  {
   "cell_type": "code",
   "execution_count": 11,
   "id": "0196f8e3",
   "metadata": {},
   "outputs": [
    {
     "data": {
      "image/png": "[encoded data removed]",
      "text/plain": [
       "<Figure size 700x500 with 1 Axes>"
      ]
     },
     "metadata": {},
     "output_type": "display_data"
    }
   ],
   "source": [
    "bins = np.arange(0, 61, 1)\n",
    "plt.figure(figsize=(7,5))\n",
    "sns.histplot(y_train, bins=bins, alpha=0.5, label='actual')\n",
    "sns.histplot(y_pred_train, bins=bins, alpha=0.5, label='prediction')\n",
    "plt.xlim(0, 60)\n",
    "plt.xlabel('Duration (min)')\n",
    "plt.ylabel('Count')\n",
    "plt.title(f'Train: RMSE = {rmse_train:.2f}')\n",
    "plt.legend();"
   ]
  },
  {
   "cell_type": "markdown",
   "id": "79865215",
   "metadata": {},
   "source": [
    "## Validate the Model\n",
    "Use the **same vectorizer** on the validation set (never `fit` on validation), predict, and report RMSE.\n"
   ]
  },
  {
   "cell_type": "code",
   "execution_count": 12,
   "id": "e7d4bd4b",
   "metadata": {},
   "outputs": [
    {
     "name": "stdout",
     "output_type": "stream",
     "text": [
      "Validation RMSE: 8.113\n"
     ]
    }
   ],
   "source": [
    "val_dicts = df_val[CATEGORICAL].to_dict(orient='records')\n",
    "X_val = dv.transform(val_dicts)\n",
    "y_val = df_val['duration'].values\n",
    "\n",
    "y_pred_val = lr.predict(X_val)\n",
    "rmse_val = root_mean_squared_error(y_val, y_pred_val)\n",
    "print(f\"Validation RMSE: {rmse_val:.3f}\")"
   ]
  }
 ],
 "metadata": {
  "kernelspec": {
   "display_name": "ie-mlops-nyc-taxis",
   "language": "python",
   "name": "python3"
  },
  "language_info": {
   "codemirror_mode": {
    "name": "ipython",
    "version": 3
   },
   "file_extension": ".py",
   "mimetype": "text/x-python",
   "name": "python",
   "nbconvert_exporter": "python",
   "pygments_lexer": "ipython3",
   "version": "3.11.9"
  }
 },
 "nbformat": 4,
 "nbformat_minor": 5
}
